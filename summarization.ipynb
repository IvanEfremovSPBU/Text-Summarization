{
 "cells": [
  {
   "cell_type": "code",
   "execution_count": 57,
   "metadata": {},
   "outputs": [],
   "source": [
    "import nltk\n",
    "from nltk.corpus import stopwords\n",
    "from nltk.stem import WordNetLemmatizer\n",
    "from nltk.tokenize import word_tokenize, sent_tokenize\n",
    "\n",
    "from collections import Counter"
   ]
  },
  {
   "cell_type": "code",
   "execution_count": 58,
   "metadata": {},
   "outputs": [
    {
     "name": "stderr",
     "output_type": "stream",
     "text": [
      "[nltk_data] Downloading package punkt_tab to\n",
      "[nltk_data]     C:\\Users\\Remix\\AppData\\Roaming\\nltk_data...\n",
      "[nltk_data]   Package punkt_tab is already up-to-date!\n",
      "[nltk_data] Downloading package stopwords to\n",
      "[nltk_data]     C:\\Users\\Remix\\AppData\\Roaming\\nltk_data...\n",
      "[nltk_data]   Package stopwords is already up-to-date!\n",
      "[nltk_data] Downloading package wordnet to\n",
      "[nltk_data]     C:\\Users\\Remix\\AppData\\Roaming\\nltk_data...\n",
      "[nltk_data]   Package wordnet is already up-to-date!\n",
      "[nltk_data] Downloading package omw-1.4 to\n",
      "[nltk_data]     C:\\Users\\Remix\\AppData\\Roaming\\nltk_data...\n",
      "[nltk_data]   Package omw-1.4 is already up-to-date!\n"
     ]
    }
   ],
   "source": [
    "nltk.download('punkt_tab')\n",
    "nltk.download('stopwords')\n",
    "nltk.download('wordnet')\n",
    "nltk.download('omw-1.4')\n",
    "\n",
    "stop_words = set(stopwords.words('english'))\n",
    "lemmatizer = WordNetLemmatizer()"
   ]
  },
  {
   "cell_type": "code",
   "execution_count": 71,
   "metadata": {},
   "outputs": [
    {
     "name": "stdout",
     "output_type": "stream",
     "text": [
      "Never mind cats having nine lives. A stray pooch in Washington State has used up at least three of her own after being hit by a car, apparently whacked on the head with a hammer in a misguided mercy killing and then buried in a field -- only to survive. That's according to Washington State University, where the dog -- a friendly white-and-black bully breed mix now named Theia -- has been receiving care at the Veterinary Teaching Hospital. Four days after her apparent death, the dog managed to stagger to a nearby farm, dirt-covered and emaciated, where she was found by a worker who took her to a vet for help. She was taken in by Moses Lake, Washington, resident Sara Mellado. \"Considering everything that she's been through, she's incredibly gentle and loving,\" Mellado said, according to WSU News. \"She's a true miracle dog and she deserves a good life.\" Theia is only one year old but the dog's brush with death did not leave her unscathed. She suffered a dislocated jaw, leg injuries and a caved-in sinus cavity -- and still requires surgery to help her breathe. The veterinary hospital's Good Samaritan Fund committee awarded some money to help pay for the dog's treatment, but Mellado has set up a fundraising page to help meet the remaining cost of the dog's care. She's also created a Facebook page to keep supporters updated. Donors have already surpassed the $10,000 target, inspired by Theia's tale of survival against the odds. On the fundraising page, Mellado writes, \"She is in desperate need of extensive medical procedures to fix her nasal damage and reset her jaw. I agreed to foster her until she finally found a loving home.\" She is dedicated to making sure Theia gets the medical attention she needs, Mellado adds, and wants to \"make sure she gets placed in a family where this will never happen to her again!\" Any additional funds raised will be \"paid forward\" to help other animals. Theia is not the only animal to apparently rise from the grave in recent weeks. A cat in Tampa, Florida, found seemingly dead after he was hit by a car in January, showed up alive in a neighbor's yard five days after he was buried by his owner. The cat was in bad shape, with maggots covering open wounds on his body and a ruined left eye, but remarkably survived with the help of treatment from the Humane Society.\n",
      "Theia, a bully breed mix, was apparently hit by a car, whacked with a hammer and buried in a field . \"She's a true miracle dog and she deserves a good life,\" says Sara Mellado, who is looking for a home for Theia .\n"
     ]
    }
   ],
   "source": [
    "with open('CNN-dailymail_1.txt', 'r', encoding='utf-8') as file:\n",
    "    text = file.read()\n",
    "\n",
    "with open('Reference_summary.txt', 'r', encoding='utf-8') as file:\n",
    "    reference_summary = file.read()\n",
    "\n",
    "print(text)\n",
    "print(reference_summary)"
   ]
  },
  {
   "cell_type": "markdown",
   "metadata": {},
   "source": [
    "#### Предобработка текста"
   ]
  },
  {
   "cell_type": "code",
   "execution_count": 60,
   "metadata": {},
   "outputs": [],
   "source": [
    "def lemmatize_text(text):\n",
    "    \n",
    "    sentences = sent_tokenize(text)\n",
    "    lemmatized_sentences = []\n",
    "    \n",
    "    for sentence in sentences:\n",
    "        words = word_tokenize(sentence.lower())\n",
    "        \n",
    "        lemmas = []\n",
    "        for word in words:\n",
    "            if word.isalnum() and word not in stop_words:\n",
    "                lemmas.append(lemmatizer.lemmatize(word))\n",
    "                \n",
    "        lemmatized_sentences.append(lemmas)\n",
    "        \n",
    "    return lemmatized_sentences"
   ]
  },
  {
   "cell_type": "markdown",
   "metadata": {},
   "source": [
    "#### Метрика ROUGE"
   ]
  },
  {
   "cell_type": "code",
   "execution_count": 74,
   "metadata": {},
   "outputs": [],
   "source": [
    "from rouge import Rouge\n",
    "\n",
    "rouge = Rouge()"
   ]
  },
  {
   "cell_type": "markdown",
   "metadata": {},
   "source": [
    "## Экстрактивные методы суммаризации"
   ]
  },
  {
   "cell_type": "markdown",
   "metadata": {},
   "source": [
    "#### Эвристический метод. Алгоритм Луна."
   ]
  },
  {
   "cell_type": "code",
   "execution_count": 61,
   "metadata": {},
   "outputs": [],
   "source": [
    "def luhn_summarizer(text, summarized_length, threshold_factor=1.5):\n",
    "    lemmatized_sentences = lemmatize_text(text)\n",
    "\n",
    "    words_combined = [word for sentence in lemmatized_sentences for word in sentence]\n",
    "    words_freqences = Counter(words_combined)\n",
    "    \n",
    "    avg_words_freq = sum(words_freqences.values()) / len(words_freqences)\n",
    "    keywords = []\n",
    "    \n",
    "    for word, count in words_freqences.items():\n",
    "        if count >= avg_words_freq * threshold_factor:\n",
    "            keywords.append(word)\n",
    "    \n",
    "    sentences = sent_tokenize(text)\n",
    "    sentence_scores = {}  \n",
    "    \n",
    "    for i, sentence in enumerate(sentences):\n",
    "        \n",
    "        sentence_lemmas = lemmatized_sentences[i]\n",
    "        \n",
    "        start_index = 0\n",
    "        max_score = 0\n",
    "        score = 0\n",
    "        keywords_indices = [i for i, word in enumerate(sentence_lemmas) if word in keywords]\n",
    "        \n",
    "        for i in keywords_indices:\n",
    "            keywords_in_interval = 0\n",
    "            interval_size = 0\n",
    "            \n",
    "            for j in range(start_index, i+1):\n",
    "                if sentence_lemmas[j] in keywords:\n",
    "                    keywords_in_interval += 1\n",
    "                \n",
    "                interval_size += 1\n",
    "                \n",
    "                if interval_size - keywords_in_interval > 4:\n",
    "                    break\n",
    "                \n",
    "            if interval_size > 0:\n",
    "                score = (keywords_in_interval**2) / interval_size\n",
    "                max_score = max(max_score, score)\n",
    "\n",
    "            start_index = i + 1\n",
    "            \n",
    "            sentence_scores[sentence] = max_score\n",
    "\n",
    "    sorted_sentences = sorted(sentence_scores.items(), key=lambda item: item[1], reverse=True)\n",
    "    summary = \" \".join([sentence for sentence, score in sorted_sentences[:summarized_length]])  \n",
    "\n",
    "    return summary \n",
    "    "
   ]
  },
  {
   "cell_type": "code",
   "execution_count": 76,
   "metadata": {},
   "outputs": [
    {
     "name": "stdout",
     "output_type": "stream",
     "text": [
      "Never mind cats having nine lives. A stray pooch in Washington State has used up at least three of her own after being hit by a car, apparently whacked on the head with a hammer in a misguided mercy killing and then buried in a field -- only to survive.\n",
      "{'rouge-1': {'r': 0.35294117647058826, 'p': 0.26666666666666666, 'f': 0.30379746345137}, 'rouge-2': {'r': 0.1951219512195122, 'p': 0.16666666666666666, 'f': 0.17977527592980694}, 'rouge-l': {'r': 0.3235294117647059, 'p': 0.24444444444444444, 'f': 0.2784810077551675}}\n"
     ]
    }
   ],
   "source": [
    "luhn_summary = luhn_summarizer(text, 2)\n",
    "luhn_rouge = rouge.get_scores(luhn_summary, reference_summary, avg=True)\n",
    "\n",
    "print(luhn_summary)\n",
    "print(luhn_rouge)"
   ]
  },
  {
   "cell_type": "markdown",
   "metadata": {},
   "source": [
    "#### Графовый метод. TextRank."
   ]
  },
  {
   "cell_type": "code",
   "execution_count": 63,
   "metadata": {},
   "outputs": [],
   "source": [
    "import numpy as np\n",
    "from sklearn.feature_extraction.text import TfidfVectorizer\n",
    "from sklearn.metrics.pairwise import cosine_similarity\n",
    "\n",
    "import networkx as nx"
   ]
  },
  {
   "cell_type": "code",
   "execution_count": 64,
   "metadata": {},
   "outputs": [],
   "source": [
    "def textrank_summarizer(text, summarization_length, damping_factor = 0.85, max_iterations=100, threshold=1e-5):\n",
    "    lemmatized_sentences = lemmatize_text(text)\n",
    "\n",
    "    vectorizer = TfidfVectorizer() \n",
    "    joined_lemmas = [' '.join(sentence) for sentence in lemmatized_sentences]\n",
    "    \n",
    "    tfidf_matrix = vectorizer.fit_transform(joined_lemmas)\n",
    "    similarity_matrix = cosine_similarity(tfidf_matrix)\n",
    "    \n",
    "    graph = nx.from_numpy_array(similarity_matrix)\n",
    "    pagerank = nx.pagerank(graph, alpha=damping_factor, max_iter=max_iterations, tol=threshold)\n",
    "\n",
    "    sentences = sent_tokenize(text)\n",
    "    \n",
    "    sorted_sentences = sorted(range(len(sentences)), key=lambda i: pagerank[i], reverse=True)\n",
    "    summary = ' '.join([sentences[i] for i in sorted_sentences[:summarization_length]])\n",
    "\n",
    "    return summary"
   ]
  },
  {
   "cell_type": "code",
   "execution_count": 77,
   "metadata": {},
   "outputs": [
    {
     "name": "stdout",
     "output_type": "stream",
     "text": [
      "The veterinary hospital's Good Samaritan Fund committee awarded some money to help pay for the dog's treatment, but Mellado has set up a fundraising page to help meet the remaining cost of the dog's care. That's according to Washington State University, where the dog -- a friendly white-and-black bully breed mix now named Theia -- has been receiving care at the Veterinary Teaching Hospital.\n",
      "{'rouge-1': {'r': 0.17647058823529413, 'p': 0.11538461538461539, 'f': 0.13953487893996774}, 'rouge-2': {'r': 0.024390243902439025, 'p': 0.01639344262295082, 'f': 0.01960783832948984}, 'rouge-l': {'r': 0.17647058823529413, 'p': 0.11538461538461539, 'f': 0.13953487893996774}}\n"
     ]
    }
   ],
   "source": [
    "text_rank_summary = textrank_summarizer(text,2)\n",
    "\n",
    "text_rank_rouge = rouge.get_scores(text_rank_summary, reference_summary, avg=True)\n",
    "\n",
    "print(text_rank_summary)\n",
    "print(text_rank_rouge)"
   ]
  },
  {
   "cell_type": "markdown",
   "metadata": {},
   "source": [
    "## Абстрактивная суммаризация"
   ]
  },
  {
   "cell_type": "code",
   "execution_count": 78,
   "metadata": {},
   "outputs": [
    {
     "ename": "",
     "evalue": "",
     "output_type": "error",
     "traceback": [
      "\u001b[1;31mThe Kernel crashed while executing code in the current cell or a previous cell. \n",
      "\u001b[1;31mPlease review the code in the cell(s) to identify a possible cause of the failure. \n",
      "\u001b[1;31mClick <a href='https://aka.ms/vscodeJupyterKernelCrash'>here</a> for more info. \n",
      "\u001b[1;31mView Jupyter <a href='command:jupyter.viewOutput'>log</a> for further details."
     ]
    }
   ],
   "source": [
    "from transformers import pipeline\n",
    "\n",
    "t5_base_abst_summarizer = pipeline(\"summarization\", model=\"t5-base\", device='cuda')\n",
    "facebook_bart_abst_summarizer = pipeline(\"summarization\", model=\"facebook/bart-large-cnn\", device='cuda')\n",
    "distilbart_summarizer = pipeline(\"summarization\", model=\"sshleifer/distilbart-cnn-12-6\", device='cuda')\n"
   ]
  },
  {
   "cell_type": "code",
   "execution_count": null,
   "metadata": {},
   "outputs": [
    {
     "data": {
      "text/plain": [
       "[{'summary_text': 'a stray pooch in washington state has used up at least three of her own after being hit by a car . the dog staggers to a nearby farm, dirt-covered and emaciated, where she is found . \"she\\'s a true miracle dog and she deserves a good life,\" a resident says .'}]"
      ]
     },
     "execution_count": 68,
     "metadata": {},
     "output_type": "execute_result"
    }
   ],
   "source": [
    "t5_base_summary = t5_base_abst_summarizer(text, min_length=30, max_length=100)\n",
    "t5_base_rouge = rouge.get_scores(t5_base_summary, reference_summary, avg=True)\n",
    "\n",
    "print(t5_base_summary)\n",
    "print(t5_base_rouge)"
   ]
  },
  {
   "cell_type": "code",
   "execution_count": null,
   "metadata": {},
   "outputs": [
    {
     "data": {
      "text/plain": [
       "[{'summary_text': 'Theia, a one-year-old bully breed mix, was hit by a car and buried in a field. She managed to stagger to a nearby farm, dirt-covered and emaciated. She suffered a dislocated jaw, leg injuries and a caved-in sinus cavity. A fundraising page has raised more than $10,000 for her care.'}]"
      ]
     },
     "execution_count": 69,
     "metadata": {},
     "output_type": "execute_result"
    }
   ],
   "source": [
    "facebook_bart_summary = facebook_bart_abst_summarizer(text, min_length=30, max_length=100)\n",
    "facebook_bart_rouge = rouge.get_scores(facebook_bart_summary , reference_summary, avg=True)\n",
    "\n",
    "print(facebook_bart_summary)\n",
    "print(facebook_bart_rouge)"
   ]
  },
  {
   "cell_type": "code",
   "execution_count": null,
   "metadata": {},
   "outputs": [
    {
     "data": {
      "text/plain": [
       "[{'summary_text': ' Theia is a one-year-old bully breed mix who was hit by a car and buried in a field . The dog was found by a worker at a nearby farm, dirt-covered and emaciated, days after her apparent death . She suffered a dislocated jaw, leg injuries and a caved-in sinus cavity . A fundraising page has been set up to help pay for her treatment .'}]"
      ]
     },
     "execution_count": 70,
     "metadata": {},
     "output_type": "execute_result"
    }
   ],
   "source": [
    "distilbart_summary = distilbart_summarizer(text, min_length=30, max_length=100)\n",
    "distilbart_rouge = rouge.get_scores(distilbart_summary, reference_summary, avg=True)\n",
    "\n",
    "print(distilbart_summary)\n",
    "print(distilbart_rouge)"
   ]
  }
 ],
 "metadata": {
  "kernelspec": {
   "display_name": "Python 3",
   "language": "python",
   "name": "python3"
  },
  "language_info": {
   "codemirror_mode": {
    "name": "ipython",
    "version": 3
   },
   "file_extension": ".py",
   "mimetype": "text/x-python",
   "name": "python",
   "nbconvert_exporter": "python",
   "pygments_lexer": "ipython3",
   "version": "3.12.7"
  }
 },
 "nbformat": 4,
 "nbformat_minor": 2
}
